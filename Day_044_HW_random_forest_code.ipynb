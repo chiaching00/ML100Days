{
 "cells": [
  {
   "cell_type": "markdown",
   "metadata": {},
   "source": [
    "## [作業重點]\n",
    "確保你了解隨機森林模型中每個超參數的意義，並觀察調整超參數對結果的影響"
   ]
  },
  {
   "cell_type": "markdown",
   "metadata": {},
   "source": [
    "## 作業\n",
    "\n",
    "作業1：試著調整 Random Forest 中的參數，並觀察是否會改變結果？   \n",
    "作業2：改用其他資料集 (diabetes, wine)，仔細探索一個參數對模型預測力的變化。 "
   ]
  },
  {
   "cell_type": "code",
   "execution_count": 6,
   "metadata": {},
   "outputs": [],
   "source": [
    "from sklearn import datasets, metrics\n",
    "from sklearn.ensemble import RandomForestClassifier, RandomForestRegressor\n",
    "from sklearn.model_selection import train_test_split\n",
    "from sklearn.metrics import mean_squared_error, r2_score, accuracy_score"
   ]
  },
  {
   "cell_type": "markdown",
   "metadata": {},
   "source": [
    "Part1. diabetes"
   ]
  },
  {
   "cell_type": "markdown",
   "metadata": {},
   "source": [
    "clf = RandomForestClassifier(    \n",
    "\n",
    "        n_estimators=10, #決策樹的數量\n",
    "\n",
    "        criterion=\"gini\",\n",
    "\n",
    "        max_features=\"auto\", #如何選取 features\n",
    "\n",
    "        max_depth=10, #樹能生長的最深限制\n",
    "\n",
    "        min_samples_split=2, #至少要多少樣本以上才進行切分\n",
    "\n",
    "        min_samples_leaf=1 #最終的葉子 (節點) 上至少要有多少樣本\n",
    "\n",
    "        )"
   ]
  },
  {
   "cell_type": "code",
   "execution_count": 7,
   "metadata": {},
   "outputs": [
    {
     "name": "stderr",
     "output_type": "stream",
     "text": [
      "c:\\Users\\User\\AppData\\Local\\Programs\\Python\\Python311\\Lib\\site-packages\\sklearn\\ensemble\\_forest.py:413: FutureWarning: `max_features='auto'` has been deprecated in 1.1 and will be removed in 1.3. To keep the past behaviour, explicitly set `max_features=1.0` or remove this parameter as it is also the default value for RandomForestRegressors and ExtraTreesRegressors.\n",
      "  warn(\n"
     ]
    }
   ],
   "source": [
    "diabetes = datasets.load_diabetes()\n",
    "x_train, x_test, y_train, y_test = train_test_split(diabetes.data, diabetes.target, test_size=0.25, random_state=4)\n",
    "\n",
    "# 建立模型 \n",
    "reg1 = RandomForestRegressor(n_estimators=20) #(使用 20 顆樹)\n",
    "reg2 = RandomForestRegressor(n_estimators=20, max_depth=4) #(使用 20 顆樹，每棵樹的最大深度為 4)\n",
    "reg3 = RandomForestRegressor(n_estimators=20, min_samples_split=2) #(使用 20 顆樹，至少要2個樣本以上才進行切分)\n",
    "reg4 = RandomForestRegressor(n_estimators=20, max_features=\"auto\")\n",
    "\n",
    "# 訓練模型\n",
    "reg1.fit(x_train, y_train)\n",
    "reg2.fit(x_train, y_train)\n",
    "reg3.fit(x_train, y_train)\n",
    "reg4.fit(x_train, y_train)\n",
    "\n",
    "# 預測測試集\n",
    "y_pred1 = reg1.predict(x_test)\n",
    "y_pred2 = reg2.predict(x_test)\n",
    "y_pred3 = reg3.predict(x_test)\n",
    "y_pred4 = reg4.predict(x_test)\n"
   ]
  },
  {
   "cell_type": "code",
   "execution_count": 8,
   "metadata": {},
   "outputs": [
    {
     "name": "stdout",
     "output_type": "stream",
     "text": [
      "MSE: 3367.52\n",
      "MSE: 3125.49\n",
      "MSE: 3191.28\n",
      "MSE: 3282.03\n"
     ]
    }
   ],
   "source": [
    "\n",
    "print(f'MSE: {mean_squared_error(y_test, y_pred1):.2f}')\n",
    "print(f'MSE: {mean_squared_error(y_test, y_pred2):.2f}')\n",
    "print(f'MSE: {mean_squared_error(y_test, y_pred3):.2f}')\n",
    "print(f'MSE: {mean_squared_error(y_test, y_pred4):.2f}')"
   ]
  },
  {
   "cell_type": "markdown",
   "metadata": {},
   "source": [
    "Part2. wine"
   ]
  },
  {
   "cell_type": "code",
   "execution_count": 13,
   "metadata": {},
   "outputs": [
    {
     "name": "stderr",
     "output_type": "stream",
     "text": [
      "c:\\Users\\User\\AppData\\Local\\Programs\\Python\\Python311\\Lib\\site-packages\\sklearn\\ensemble\\_forest.py:424: FutureWarning: `max_features='auto'` has been deprecated in 1.1 and will be removed in 1.3. To keep the past behaviour, explicitly set `max_features='sqrt'` or remove this parameter as it is also the default value for RandomForestClassifiers and ExtraTreesClassifiers.\n",
      "  warn(\n"
     ]
    }
   ],
   "source": [
    "wine = datasets.load_wine()\n",
    "x_train, x_test, y_train, y_test = train_test_split(wine.data, wine.target, test_size=0.25, random_state=4)\n",
    "\n",
    "# 建立模型 \n",
    "clf1 = RandomForestClassifier(n_estimators=20) #(使用 20 顆樹)\n",
    "clf2 = RandomForestClassifier(n_estimators=20, max_depth=4) #(使用 20 顆樹，每棵樹的最大深度為 4)\n",
    "clf3 = RandomForestClassifier(n_estimators=20, min_samples_split=2) #(使用 20 顆樹，至少要2個樣本以上才進行切分)\n",
    "clf4 = RandomForestClassifier(n_estimators=20, max_features=\"auto\")\n",
    "\n",
    "# 訓練模型\n",
    "clf1.fit(x_train, y_train)\n",
    "clf2.fit(x_train, y_train)\n",
    "clf3.fit(x_train, y_train)\n",
    "clf4.fit(x_train, y_train)\n",
    "\n",
    "# 預測測試集\n",
    "y_pred1 = clf1.predict(x_test)\n",
    "y_pred2 = clf2.predict(x_test)\n",
    "y_pred3 = clf3.predict(x_test)\n",
    "y_pred4 = clf4.predict(x_test)\n"
   ]
  },
  {
   "cell_type": "code",
   "execution_count": 14,
   "metadata": {},
   "outputs": [
    {
     "name": "stdout",
     "output_type": "stream",
     "text": [
      " model_1 Accuracy: 0.98\n",
      " medel_2 Accuracy: 0.98\n",
      " model_3 Accuracy: 0.98\n",
      " model_4 Accuracy: 0.98\n"
     ]
    }
   ],
   "source": [
    "print(f' model_1 Accuracy: {metrics.accuracy_score(y_test, y_pred1):.2f}')\n",
    "print(f' medel_2 Accuracy: {metrics.accuracy_score(y_test, y_pred2):.2f}')\n",
    "print(f' model_3 Accuracy: {metrics.accuracy_score(y_test, y_pred3):.2f}')\n",
    "print(f' model_4 Accuracy: {metrics.accuracy_score(y_test, y_pred4):.2f}')"
   ]
  }
 ],
 "metadata": {
  "kernelspec": {
   "display_name": "Python 3.11.0 64-bit",
   "language": "python",
   "name": "python3"
  },
  "language_info": {
   "codemirror_mode": {
    "name": "ipython",
    "version": 3
   },
   "file_extension": ".py",
   "mimetype": "text/x-python",
   "name": "python",
   "nbconvert_exporter": "python",
   "pygments_lexer": "ipython3",
   "version": "3.11.0"
  },
  "vscode": {
   "interpreter": {
    "hash": "ebfc0a8d552866b0d59eba665220a57de3bc06f3ac643b8bef38dd8f66781fdd"
   }
  }
 },
 "nbformat": 4,
 "nbformat_minor": 4
}
