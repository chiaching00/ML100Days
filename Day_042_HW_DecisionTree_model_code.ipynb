{
 "cells": [
  {
   "cell_type": "markdown",
   "metadata": {},
   "source": [
    "## [作業重點]\n",
    "目前你應該已經要很清楚資料集中，資料的型態是什麼樣子囉！包含特徵 (features) 與標籤 (labels)。因此要記得未來不管什麼專案，必須要把資料清理成相同的格式，才能送進模型訓練。\n",
    "今天的作業開始踏入決策樹這個非常重要的模型，請務必確保你理解模型中每個超參數的意思，並試著調整看看，對最終預測結果的影響為何"
   ]
  },
  {
   "cell_type": "markdown",
   "metadata": {},
   "source": [
    "## 作業\n",
    "\n",
    "作業1：試著調整 Decision Tree 中的參數，並觀察是否會改變結果？   \n",
    "作業2：改用其他資料集 (diabetes, wine)，並與迴歸模型的結果進行比較"
   ]
  },
  {
   "cell_type": "markdown",
   "metadata": {},
   "source": [
    "Part1. wine(target : discrete variable)"
   ]
  },
  {
   "cell_type": "code",
   "execution_count": 26,
   "metadata": {},
   "outputs": [],
   "source": [
    "from sklearn import datasets, metrics\n",
    "\n",
    "# 如果是分類問題，請使用 DecisionTreeClassifier，若為回歸問題，請使用 DecisionTreeRegressor\n",
    "from sklearn.tree import DecisionTreeClassifier, DecisionTreeRegressor\n",
    "from sklearn.model_selection import train_test_split"
   ]
  },
  {
   "cell_type": "code",
   "execution_count": 27,
   "metadata": {},
   "outputs": [
    {
     "name": "stdout",
     "output_type": "stream",
     "text": [
      " model_1 Accuracy: 0.94\n",
      " medel_2 Accuracy: 0.67\n",
      " model_3 Accuracy: 0.94\n",
      " model_4 Accuracy: 0.89\n"
     ]
    }
   ],
   "source": [
    "# 讀取鳶尾花資料集\n",
    "wine = datasets.load_wine()\n",
    "\n",
    "# 切分訓練集/測試集\n",
    "x_train, x_test, y_train, y_test = train_test_split(wine.data, wine.target, test_size=0.1, random_state=4)\n",
    "\n",
    "# 建立模型\n",
    "clf1 = DecisionTreeClassifier() #分類問題\n",
    "clf2 = DecisionTreeClassifier(max_depth=1)\n",
    "clf3 = DecisionTreeClassifier(min_samples_split=2)\n",
    "clf4 = DecisionTreeClassifier(min_samples_leaf=10)\n",
    "\n",
    "# 訓練模型\n",
    "clf1.fit(x_train, y_train)\n",
    "clf2.fit(x_train, y_train)\n",
    "clf3.fit(x_train, y_train)\n",
    "clf4.fit(x_train, y_train)\n",
    "\n",
    "# 預測測試集\n",
    "y_pred1 = clf1.predict(x_test)\n",
    "y_pred2 = clf2.predict(x_test)\n",
    "y_pred3 = clf3.predict(x_test)\n",
    "y_pred4 = clf4.predict(x_test)\n",
    "\n",
    "print(f' model_1 Accuracy: {metrics.accuracy_score(y_test, y_pred1):.2f}')\n",
    "print(f' medel_2 Accuracy: {metrics.accuracy_score(y_test, y_pred2):.2f}')\n",
    "print(f' model_3 Accuracy: {metrics.accuracy_score(y_test, y_pred3):.2f}')\n",
    "print(f' model_4 Accuracy: {metrics.accuracy_score(y_test, y_pred4):.2f}')\n"
   ]
  },
  {
   "cell_type": "markdown",
   "metadata": {},
   "source": [
    "## 決策樹的超參數\n",
    "Criterion: 衡量資料相似程度的 metric\\\n",
    "Max_depth: 樹能生長的最深限制\\\n",
    "Min_samples_split: 至少要多少樣本以上才進行切分\\\n",
    "Min_samples_leaf: 最終的葉子 (節點) 上至少要有多少樣本\\"
   ]
  },
  {
   "cell_type": "code",
   "execution_count": null,
   "metadata": {},
   "outputs": [],
   "source": [
    "from sklearn.tree import DecisionTreeClassifier\n",
    "\n",
    "clf=DecisionTreeClassifier(\n",
    "    criterion='gini',\n",
    "    max_depth=None, \n",
    "    min_samples_split=2, \n",
    "    min_samples_leaf=1\n",
    ")\n",
    "\n",
    "clf.feature_importances"
   ]
  },
  {
   "cell_type": "markdown",
   "metadata": {},
   "source": [
    "Part2. diabetes (target : continuous variable)"
   ]
  },
  {
   "cell_type": "code",
   "execution_count": 29,
   "metadata": {},
   "outputs": [
    {
     "name": "stdout",
     "output_type": "stream",
     "text": [
      "MSE: 7802.93\n"
     ]
    }
   ],
   "source": [
    "from sklearn.metrics import mean_squared_error\n",
    "diabetes = datasets.load_diabetes()\n",
    "x_train, x_test, y_train, y_test = train_test_split(diabetes.data, diabetes.target, test_size=0.1, random_state=4)\n",
    "reg = DecisionTreeRegressor() #回歸問題\n",
    "reg.fit(x_train, y_train)\n",
    "y_pred=reg.predict(x_test)\n",
    "print(f'MSE: {mean_squared_error(y_test, y_pred):.2f}')"
   ]
  }
 ],
 "metadata": {
  "kernelspec": {
   "display_name": "Python 3.11.0 64-bit",
   "language": "python",
   "name": "python3"
  },
  "language_info": {
   "codemirror_mode": {
    "name": "ipython",
    "version": 3
   },
   "file_extension": ".py",
   "mimetype": "text/x-python",
   "name": "python",
   "nbconvert_exporter": "python",
   "pygments_lexer": "ipython3",
   "version": "3.11.0"
  },
  "vscode": {
   "interpreter": {
    "hash": "ebfc0a8d552866b0d59eba665220a57de3bc06f3ac643b8bef38dd8f66781fdd"
   }
  }
 },
 "nbformat": 4,
 "nbformat_minor": 4
}
